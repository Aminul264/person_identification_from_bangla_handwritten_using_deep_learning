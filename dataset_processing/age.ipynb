{
 "cells": [
  {
   "cell_type": "code",
   "execution_count": 42,
   "metadata": {},
   "outputs": [
    {
     "name": "stdout",
     "output_type": "stream",
     "text": [
      "Train Data: 3358\n",
      "Validation Data: 839\n",
      "Test Data 1: 839\n"
     ]
    }
   ],
   "source": [
    "def Preprocessing():\n",
    "    import os\n",
    "    import shutil\n",
    "    import glob\n",
    "\n",
    "    # Define the base directory\n",
    "    base_dir = './'\n",
    "\n",
    "    # Define the destination directories\n",
    "    train_dir = os.path.join(base_dir, 'train')\n",
    "    val_dir = os.path.join(base_dir, 'val')\n",
    "    test_dir = os.path.join(base_dir, 'test')\n",
    "\n",
    "    # Create the destination directories if they don't exist\n",
    "    for dir_path in [train_dir, val_dir, test_dir]:\n",
    "        os.makedirs(os.path.join(dir_path, 'male'), exist_ok=True)\n",
    "        os.makedirs(os.path.join(dir_path, 'female'), exist_ok=True)\n",
    "\n",
    "    # Initialize lists for training, validation, and test data\n",
    "    train_x, train_y = [], []\n",
    "    val_x, val_y = [], []\n",
    "    test_x, test_y = [], []\n",
    "\n",
    "    # Debug: Print all files found\n",
    "    # print(\"All jpg files found:\")\n",
    "    all_files = glob.glob(os.path.join(base_dir, '**', '*.jpg'), recursive=True)\n",
    "    # for file in all_files:\n",
    "    #     print(file)\n",
    "\n",
    "    # Use glob to find files matching specific patterns\n",
    "    for filename in all_files:\n",
    "        try:\n",
    "            # Extract labels from filename\n",
    "            temp = os.path.basename(filename).split('_')\n",
    "            age = int(temp[0])\n",
    "            gender = int(temp[1])\n",
    "            ethnicity = str(temp[2])\n",
    "            file_id = temp[-1].split('.')[0]\n",
    "            # print(f\"Processing file: {filename}, ID: {file_id[-1]}\")\n",
    "            # print(f\"Processing file: {filename}, ID: {file_id}\")\n",
    "            id = file_id[-1]\n",
    "            # Determine gender label\n",
    "            gender_label = 'male' if gender == 1 else 'female'\n",
    "\n",
    "            # Append image path and labels to corresponding lists\n",
    "            if id in {'1', '2', '3', '4'}:\n",
    "                train_x.append(filename)\n",
    "                train_y.append(gender)\n",
    "                dest_dir = os.path.join(train_dir, gender_label)\n",
    "            # elif file_id == '5':\n",
    "            #     val_x.append(filename)\n",
    "            #     val_y.append(gender)\n",
    "            #     dest_dir = os.path.join(val_dir, gender_label)\n",
    "            elif id == '5':\n",
    "                val_x.append(filename)\n",
    "                val_y.append(gender)\n",
    "                dest_dir = os.path.join(val_dir, gender_label)\n",
    "            elif id == '6':\n",
    "                test_x.append(filename)\n",
    "                test_y.append(gender)\n",
    "                dest_dir = os.path.join(test_dir, gender_label)\n",
    "            else:\n",
    "                continue\n",
    "\n",
    "            # Move the file to the corresponding destination directory\n",
    "            shutil.move(filename, os.path.join(dest_dir, os.path.basename(filename)))\n",
    "\n",
    "        except ValueError:\n",
    "            print(f\"Ignoring file {filename} due to invalid format.\")\n",
    "            continue\n",
    "\n",
    "    # Print the lengths of each set\n",
    "    print(\"Train Data:\", len(train_x))\n",
    "    print(\"Validation Data:\", len(val_x))\n",
    "    print(\"Test Data 1:\", len(test_x))\n",
    "\n",
    "    # print(\"Files have been moved successfully.\")\n"
   ]
  },
  {
   "cell_type": "code",
   "execution_count": 53,
   "metadata": {},
   "outputs": [
    {
     "name": "stdout",
     "output_type": "stream",
     "text": [
      "4864\n"
     ]
    }
   ],
   "source": [
    "x = len(train_x)+len(test1_x)+len(test2_x)\n",
    "print(x)"
   ]
  },
  {
   "cell_type": "code",
   "execution_count": 45,
   "metadata": {},
   "outputs": [
    {
     "data": {
      "text/plain": [
       "'male'"
      ]
     },
     "execution_count": 45,
     "metadata": {},
     "output_type": "execute_result"
    }
   ],
   "source": [
    "'male' if train_y[2100] == 1 else 'female'"
   ]
  },
  {
   "cell_type": "code",
   "execution_count": 60,
   "metadata": {},
   "outputs": [
    {
     "name": "stdout",
     "output_type": "stream",
     "text": [
      "First 5 train_x images:\n",
      ".\\Female\\age_10\\10_0_0_10001.jpg\n",
      ".\\Female\\age_10\\10_0_0_10002.jpg\n",
      ".\\Female\\age_10\\10_0_0_10003.jpg\n",
      ".\\Female\\age_10\\10_0_0_10004.jpg\n",
      ".\\Female\\age_10\\10_0_0_1001.jpg\n"
     ]
    }
   ],
   "source": [
    "# Show first 5 train_x images\n",
    "print(\"First 5 train_x images:\")\n",
    "for i in range(min(5, len(train_x))):\n",
    "    print(train_x[i])\n",
    "    # plt.subplot(1, 5, i+1)\n",
    "    # img = plt.imread(train_x[i])\n",
    "    # plt.imshow(img, cmap='gray')\n",
    "    # plt.title((train_y[i]))"
   ]
  },
  {
   "cell_type": "code",
   "execution_count": 56,
   "metadata": {},
   "outputs": [
    {
     "ename": "FileNotFoundError",
     "evalue": "[Errno 2] No such file or directory: '.\\\\Female\\\\age_10\\\\10_0_0_10001.jpg'",
     "output_type": "error",
     "traceback": [
      "\u001b[1;31m---------------------------------------------------------------------------\u001b[0m",
      "\u001b[1;31mFileNotFoundError\u001b[0m                         Traceback (most recent call last)",
      "Cell \u001b[1;32mIn[56], line 7\u001b[0m\n\u001b[0;32m      5\u001b[0m \u001b[38;5;28;01mfor\u001b[39;00m i \u001b[38;5;129;01min\u001b[39;00m \u001b[38;5;28mrange\u001b[39m(\u001b[38;5;28mmin\u001b[39m(\u001b[38;5;241m5\u001b[39m, \u001b[38;5;28mlen\u001b[39m(train_x))):\n\u001b[0;32m      6\u001b[0m     plt\u001b[38;5;241m.\u001b[39msubplot(\u001b[38;5;241m1\u001b[39m, \u001b[38;5;241m5\u001b[39m, i\u001b[38;5;241m+\u001b[39m\u001b[38;5;241m1\u001b[39m)\n\u001b[1;32m----> 7\u001b[0m     img \u001b[38;5;241m=\u001b[39m \u001b[43mplt\u001b[49m\u001b[38;5;241;43m.\u001b[39;49m\u001b[43mimread\u001b[49m\u001b[43m(\u001b[49m\u001b[43mtrain_x\u001b[49m\u001b[43m[\u001b[49m\u001b[43mi\u001b[49m\u001b[43m]\u001b[49m\u001b[43m)\u001b[49m\n\u001b[0;32m      8\u001b[0m     plt\u001b[38;5;241m.\u001b[39mimshow(img, cmap\u001b[38;5;241m=\u001b[39m\u001b[38;5;124m'\u001b[39m\u001b[38;5;124mgray\u001b[39m\u001b[38;5;124m'\u001b[39m)\n\u001b[0;32m      9\u001b[0m     plt\u001b[38;5;241m.\u001b[39mtitle((train_y[i]))\n",
      "File \u001b[1;32mc:\\Users\\aminu\\AppData\\Local\\Programs\\Python\\Python311\\Lib\\site-packages\\matplotlib\\pyplot.py:2195\u001b[0m, in \u001b[0;36mimread\u001b[1;34m(fname, format)\u001b[0m\n\u001b[0;32m   2193\u001b[0m \u001b[38;5;129m@_copy_docstring_and_deprecators\u001b[39m(matplotlib\u001b[38;5;241m.\u001b[39mimage\u001b[38;5;241m.\u001b[39mimread)\n\u001b[0;32m   2194\u001b[0m \u001b[38;5;28;01mdef\u001b[39;00m \u001b[38;5;21mimread\u001b[39m(fname, \u001b[38;5;28mformat\u001b[39m\u001b[38;5;241m=\u001b[39m\u001b[38;5;28;01mNone\u001b[39;00m):\n\u001b[1;32m-> 2195\u001b[0m     \u001b[38;5;28;01mreturn\u001b[39;00m \u001b[43mmatplotlib\u001b[49m\u001b[38;5;241;43m.\u001b[39;49m\u001b[43mimage\u001b[49m\u001b[38;5;241;43m.\u001b[39;49m\u001b[43mimread\u001b[49m\u001b[43m(\u001b[49m\u001b[43mfname\u001b[49m\u001b[43m,\u001b[49m\u001b[43m \u001b[49m\u001b[38;5;28;43mformat\u001b[39;49m\u001b[43m)\u001b[49m\n",
      "File \u001b[1;32mc:\\Users\\aminu\\AppData\\Local\\Programs\\Python\\Python311\\Lib\\site-packages\\matplotlib\\image.py:1563\u001b[0m, in \u001b[0;36mimread\u001b[1;34m(fname, format)\u001b[0m\n\u001b[0;32m   1556\u001b[0m \u001b[38;5;28;01mif\u001b[39;00m \u001b[38;5;28misinstance\u001b[39m(fname, \u001b[38;5;28mstr\u001b[39m) \u001b[38;5;129;01mand\u001b[39;00m \u001b[38;5;28mlen\u001b[39m(parse\u001b[38;5;241m.\u001b[39murlparse(fname)\u001b[38;5;241m.\u001b[39mscheme) \u001b[38;5;241m>\u001b[39m \u001b[38;5;241m1\u001b[39m:\n\u001b[0;32m   1557\u001b[0m     \u001b[38;5;66;03m# Pillow doesn't handle URLs directly.\u001b[39;00m\n\u001b[0;32m   1558\u001b[0m     \u001b[38;5;28;01mraise\u001b[39;00m \u001b[38;5;167;01mValueError\u001b[39;00m(\n\u001b[0;32m   1559\u001b[0m         \u001b[38;5;124m\"\u001b[39m\u001b[38;5;124mPlease open the URL for reading and pass the \u001b[39m\u001b[38;5;124m\"\u001b[39m\n\u001b[0;32m   1560\u001b[0m         \u001b[38;5;124m\"\u001b[39m\u001b[38;5;124mresult to Pillow, e.g. with \u001b[39m\u001b[38;5;124m\"\u001b[39m\n\u001b[0;32m   1561\u001b[0m         \u001b[38;5;124m\"\u001b[39m\u001b[38;5;124m``np.array(PIL.Image.open(urllib.request.urlopen(url)))``.\u001b[39m\u001b[38;5;124m\"\u001b[39m\n\u001b[0;32m   1562\u001b[0m         )\n\u001b[1;32m-> 1563\u001b[0m \u001b[38;5;28;01mwith\u001b[39;00m \u001b[43mimg_open\u001b[49m\u001b[43m(\u001b[49m\u001b[43mfname\u001b[49m\u001b[43m)\u001b[49m \u001b[38;5;28;01mas\u001b[39;00m image:\n\u001b[0;32m   1564\u001b[0m     \u001b[38;5;28;01mreturn\u001b[39;00m (_pil_png_to_float_array(image)\n\u001b[0;32m   1565\u001b[0m             \u001b[38;5;28;01mif\u001b[39;00m \u001b[38;5;28misinstance\u001b[39m(image, PIL\u001b[38;5;241m.\u001b[39mPngImagePlugin\u001b[38;5;241m.\u001b[39mPngImageFile) \u001b[38;5;28;01melse\u001b[39;00m\n\u001b[0;32m   1566\u001b[0m             pil_to_array(image))\n",
      "File \u001b[1;32mc:\\Users\\aminu\\AppData\\Local\\Programs\\Python\\Python311\\Lib\\site-packages\\PIL\\Image.py:3218\u001b[0m, in \u001b[0;36mopen\u001b[1;34m(fp, mode, formats)\u001b[0m\n\u001b[0;32m   3215\u001b[0m     filename \u001b[38;5;241m=\u001b[39m fp\n\u001b[0;32m   3217\u001b[0m \u001b[38;5;28;01mif\u001b[39;00m filename:\n\u001b[1;32m-> 3218\u001b[0m     fp \u001b[38;5;241m=\u001b[39m builtins\u001b[38;5;241m.\u001b[39mopen(filename, \u001b[38;5;124m\"\u001b[39m\u001b[38;5;124mrb\u001b[39m\u001b[38;5;124m\"\u001b[39m)\n\u001b[0;32m   3219\u001b[0m     exclusive_fp \u001b[38;5;241m=\u001b[39m \u001b[38;5;28;01mTrue\u001b[39;00m\n\u001b[0;32m   3221\u001b[0m \u001b[38;5;28;01mtry\u001b[39;00m:\n",
      "\u001b[1;31mFileNotFoundError\u001b[0m: [Errno 2] No such file or directory: '.\\\\Female\\\\age_10\\\\10_0_0_10001.jpg'"
     ]
    },
    {
     "data": {
      "image/png": "[encoded data removed]",
      "text/plain": [
       "<Figure size 2000x400 with 1 Axes>"
      ]
     },
     "metadata": {},
     "output_type": "display_data"
    }
   ],
   "source": [
    "import matplotlib.pyplot as plt\n",
    "\n",
    "# Plotting the first 5 images in train_x\n",
    "plt.figure(figsize=(20, 4))\n",
    "for i in range(min(5, len(train_x))):\n",
    "    plt.subplot(1, 5, i+1)\n",
    "    img = plt.imread(train_x[i])\n",
    "    plt.imshow(img, cmap='gray')\n",
    "    plt.title((train_y[i]))\n",
    "    plt.axis('off')  # Turn off axis\n",
    "plt.tight_layout()\n",
    "plt.show()\n"
   ]
  }
 ],
 "metadata": {
  "kernelspec": {
   "display_name": "Python 3",
   "language": "python",
   "name": "python3"
  },
  "language_info": {
   "codemirror_mode": {
    "name": "ipython",
    "version": 3
   },
   "file_extension": ".py",
   "mimetype": "text/x-python",
   "name": "python",
   "nbconvert_exporter": "python",
   "pygments_lexer": "ipython3",
   "version": "3.11.4"
  }
 },
 "nbformat": 4,
 "nbformat_minor": 2
}
